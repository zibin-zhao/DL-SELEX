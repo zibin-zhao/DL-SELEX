{
 "cells": [
  {
   "cell_type": "code",
   "execution_count": null,
   "metadata": {},
   "outputs": [],
   "source": [
    "import pandas as pd\n",
    "\n",
    "THRESHOLD = 60\n",
    "\n",
    "# Define a function to process a cell, taking into account empty cells or cells with only whitespace\n",
    "def process_cell(cell):\n",
    "    # Check for empty cells or cells with only whitespace\n",
    "    if cell.strip() == '':\n",
    "        return '*'\n",
    "    \n",
    "    # Split the cell into nucleotide-percentage pairs, and filter out any empty strings\n",
    "    pairs = [pair for pair in cell.split(';') if pair]\n",
    "    \n",
    "    # For each pair, split into nucleotide and percentage\n",
    "    for pair in pairs:\n",
    "        nucleotide, percentage = pair.strip().split()\n",
    "        # If the percentage is over or equal to 60%, return the nucleotide\n",
    "        if float(percentage.rstrip('%')) >= THRESHOLD:\n",
    "            return nucleotide\n",
    "    \n",
    "    # If no nucleotide has a percentage over or equal to 60%, return 'N'\n",
    "    return 'N'\n",
    "\n",
    "# Load the CSV file\n",
    "\n",
    "df = pd.read_csv('./output_fasta/refined_primer256/common_lib/DOG_output.csv')\n",
    "\n",
    "# Select all columns except the first one (which contains the text \"Consensus\")\n",
    "data_columns = df.columns[1:]\n",
    "\n",
    "# Initialize the final sequence\n",
    "final_sequence = []\n",
    "\n",
    "# Iterate through the selected columns\n",
    "for col in data_columns:\n",
    "    # Get the cell value\n",
    "    cell_value = df[col].iloc[0]\n",
    "    \n",
    "    # Process the cell value using the process_cell function\n",
    "    nucleotide = process_cell(cell_value)\n",
    "    \n",
    "    # Append the nucleotide to the final sequence\n",
    "    final_sequence.append(nucleotide)\n",
    "\n",
    "# Join the final sequence into a string\n",
    "final_sequence = ''.join(final_sequence)\n",
    "\n",
    "print(final_sequence, len(final_sequence)-1)\n"
   ]
  },
  {
   "cell_type": "code",
   "execution_count": 24,
   "metadata": {},
   "outputs": [
    {
     "name": "stdout",
     "output_type": "stream",
     "text": [
      "GGGACGACGTGTTTTTTCCAAAGACGGAGTKSGTCNTCSCCGTCCC* 46\n"
     ]
    }
   ],
   "source": [
    "'''Find the most probable sequence'''\n",
    "# Define a function to process a cell and return the nucleotide(s) with the highest percentage\n",
    "def process_cell_iupac(cell):\n",
    "    # Check for empty cells or cells with only whitespace\n",
    "    if cell.strip() == '':\n",
    "        return '*'\n",
    "    \n",
    "    # Split the cell into nucleotide-percentage pairs, and filter out any empty strings\n",
    "    pairs = [pair for pair in cell.split(';') if pair]\n",
    "    \n",
    "    # Initialize a dictionary to store the percentages for each nucleotide\n",
    "    percentages = {}\n",
    "    \n",
    "    # For each pair, split into nucleotide and percentage and store in the dictionary\n",
    "    for pair in pairs:\n",
    "        nucleotide, percentage = pair.strip().split()\n",
    "        percentages[nucleotide] = float(percentage.rstrip('%'))\n",
    "    \n",
    "    # Find the maximum percentage\n",
    "    max_percentage = max(percentages.values())\n",
    "    \n",
    "    # Find the nucleotide(s) with the maximum percentage\n",
    "    max_nucleotides = [nucleotide for nucleotide, percentage in percentages.items() if percentage == max_percentage]\n",
    "    \n",
    "    # Define the IUPAC ambiguity codes\n",
    "    iupac_codes = {\n",
    "        frozenset(['A', 'G']): 'R',\n",
    "        frozenset(['C', 'T']): 'Y',\n",
    "        frozenset(['G', 'C']): 'S',\n",
    "        frozenset(['A', 'T']): 'W',\n",
    "        frozenset(['G', 'T']): 'K',\n",
    "        frozenset(['A', 'C']): 'M'\n",
    "    }\n",
    "    \n",
    "    # If there is only one nucleotide with the maximum percentage, return it\n",
    "    if len(max_nucleotides) == 1:\n",
    "        return max_nucleotides[0]\n",
    "    # If there are two nucleotides with the maximum percentage, return the corresponding IUPAC code\n",
    "    elif len(max_nucleotides) == 2:\n",
    "        return iupac_codes[frozenset(max_nucleotides)]\n",
    "    # If there are more than two nucleotides with the maximum percentage, return 'N'\n",
    "    else:\n",
    "        return 'N'\n",
    "\n",
    "# Apply the process_cell_iupac function to each selected column\n",
    "most_probable_sequence = ''.join(df[col].apply(process_cell_iupac).iloc[0] for col in data_columns)\n",
    "\n",
    "print(most_probable_sequence, len(most_probable_sequence)-1)\n"
   ]
  },
  {
   "cell_type": "code",
   "execution_count": null,
   "metadata": {},
   "outputs": [],
   "source": []
  }
 ],
 "metadata": {
  "kernelspec": {
   "display_name": "Python 3.10.11 64-bit (microsoft store)",
   "language": "python",
   "name": "python3"
  },
  "language_info": {
   "codemirror_mode": {
    "name": "ipython",
    "version": 3
   },
   "file_extension": ".py",
   "mimetype": "text/x-python",
   "name": "python",
   "nbconvert_exporter": "python",
   "pygments_lexer": "ipython3",
   "version": "3.10.11"
  },
  "orig_nbformat": 4,
  "vscode": {
   "interpreter": {
    "hash": "c689e655b111e5d7e1440262393c2fd18852df8daaa42fd69554c9fe15dcdc83"
   }
  }
 },
 "nbformat": 4,
 "nbformat_minor": 2
}
